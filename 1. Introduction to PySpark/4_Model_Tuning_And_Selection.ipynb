{
 "cells": [
  {
   "cell_type": "markdown",
   "id": "b976ff5d",
   "metadata": {},
   "source": [
    "# Datacamp PySpark.\n",
    "### Introduction to PySpark Course"
   ]
  },
  {
   "cell_type": "markdown",
   "id": "8d0fe8b2",
   "metadata": {},
   "source": [
    "## 4. Model tuning and selection\n",
    "\n",
    "In this last chapter, you'll apply what you've learned to create a model that predicts which flights will be delayed."
   ]
  },
  {
   "cell_type": "code",
   "execution_count": null,
   "id": "bdaf9e8d",
   "metadata": {},
   "outputs": [],
   "source": []
  }
 ],
 "metadata": {
  "kernelspec": {
   "display_name": "Python 3 (ipykernel)",
   "language": "python",
   "name": "python3"
  },
  "language_info": {
   "codemirror_mode": {
    "name": "ipython",
    "version": 3
   },
   "file_extension": ".py",
   "mimetype": "text/x-python",
   "name": "python",
   "nbconvert_exporter": "python",
   "pygments_lexer": "ipython3",
   "version": "3.8.13"
  }
 },
 "nbformat": 4,
 "nbformat_minor": 5
}
