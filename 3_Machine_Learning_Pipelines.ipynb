{
 "cells": [
  {
   "cell_type": "markdown",
   "id": "9239c8ef",
   "metadata": {},
   "source": [
    "# Datacamp PySpark.\n",
    "### Introduction to PySpark Course"
   ]
  },
  {
   "cell_type": "markdown",
   "id": "c260fe7f",
   "metadata": {},
   "source": [
    "## 3. Machine Learning Pipelines\n",
    "\n",
    "PySpark has built-in, cutting-edge machine learning routines, along with utilities to create full machine learning pipelines. You'll learn about them in this chapter."
   ]
  },
  {
   "cell_type": "markdown",
   "id": "6133b5a8",
   "metadata": {},
   "source": [
    "In the next two chapters you'll step through every stage of the machine learning pipeline, from data intake to model evaluation. Let's get to it!\n",
    "\n",
    "At the core of the **pyspark.ml** module are the **Transformer** and **Estimator** classes. Almost every other class in the module behaves similarly to these two basic classes.\n",
    "\n",
    "Transformer classes have a **.transform()** method that takes a DataFrame and returns a new DataFrame; usually the original one with a new column appended. For example, you might use the class **Bucketizer** to create discrete bins from a continuous feature or the class **PCA** to reduce the dimensionality of your dataset using principal component analysis.\n",
    "\n",
    "Estimator classes all implement a **.fit()** method. These methods also take a DataFrame, but instead of returning another DataFrame they return a model object. This can be something like a **StringIndexerModel** for including categorical data saved as strings in your models, or a **RandomForestModel** that uses the random forest algorithm for classification or regression."
   ]
  },
  {
   "cell_type": "markdown",
   "id": "4d8a3ad5",
   "metadata": {},
   "source": [
    "### 1. Join the dataframes\n",
    "\n",
    "In the next two chapters you'll be working to build a model that predicts whether or not a flight will be delayed based on the flights data we've been working with. This model will also include information about the plane that flew the route, so the first step is to join the two tables: flights and planes!\n",
    "\n",
    "**Exercise:**\n",
    "\n",
    "1. First, rename the year column of planes to plane_year to avoid duplicate column names.\n",
    "2. Create a new DataFrame called model_data by joining the flights table with planes using the tailnum column as the key."
   ]
  },
  {
   "cell_type": "code",
   "execution_count": null,
   "id": "2f8294c6",
   "metadata": {},
   "outputs": [],
   "source": [
    "# Rename year column\n",
    "planes = planes.withColumnRenamed(\"year\", \"plane_year\")\n",
    "\n",
    "# Join the DataFrames\n",
    "model_data = flights.join(planes, on=\"tailnum\", how=\"leftouter\")"
   ]
  },
  {
   "cell_type": "markdown",
   "id": "9cc8505d",
   "metadata": {},
   "source": [
    "### 2. Data types\n",
    "\n",
    "Good work! Before you get started modeling, **it's important to know that Spark only handles numeric data**. That means all of the columns in your DataFrame must be either integers or decimals (called 'doubles' in Spark).\n",
    "\n",
    "When we imported our data, we let Spark guess what kind of information each column held. Unfortunately, Spark doesn't always guess right and you can see that some of the columns in our DataFrame are strings containing numbers as opposed to actual numeric values.\n",
    "\n",
    "To remedy this, you can use the **.cast()** method in combination with the **.withColumn()** method. It's important to note that **.cast()** works on columns, while **.withColumn()** works on DataFrames.\n",
    "\n",
    "The only argument you need to pass to **.cast()** is the kind of value you want to create, in string form. For example, to create integers, you'll pass the argument **\"integer\"** and for decimal numbers you'll use **\"double\"**.\n",
    "\n",
    "You can put this call to **.cast()** inside a call to **.withColumn()** to overwrite the already existing column, just like you did in the previous chapter!"
   ]
  },
  {
   "cell_type": "markdown",
   "id": "994da35a",
   "metadata": {},
   "source": [
    "***String to integer***\n",
    "\n",
    "Now you'll use the .cast() method you learned in the previous exercise to convert all the appropriate columns from your DataFrame model_data to integers!\n",
    "\n",
    "To convert the type of a column using the .cast() method, you can write code like this:\n",
    "\n",
    "**dataframe = dataframe.withColumn(\"col\", dataframe.col.cast(\"new_type\"))**\n",
    "\n",
    "**Exercise:**\n",
    "\n",
    "Use the method .withColumn() to .cast() the following columns to type \"integer\". Access the columns using the df.col notation:\n",
    "\n",
    "1. model_data.arr_delay\n",
    "2. model_data.air_time\n",
    "3. model_data.month\n",
    "4. model_data.plane_year"
   ]
  },
  {
   "cell_type": "code",
   "execution_count": null,
   "id": "215ecb78",
   "metadata": {},
   "outputs": [],
   "source": [
    "# Cast the columns to integers\n",
    "model_data = model_data.withColumn(\"arr_delay\", model_data.arr_delay.cast(\"integer\"))\n",
    "model_data = model_data.withColumn(\"air_time\", model_data.air_time.cast(\"integer\"))\n",
    "model_data = model_data.withColumn(\"month\", model_data.month.cast(\"integer\"))\n",
    "model_data = model_data.withColumn(\"plane_year\", model_data.plane_year.cast(\"integer\"))"
   ]
  },
  {
   "cell_type": "markdown",
   "id": "ec8b4569",
   "metadata": {},
   "source": [
    "***Create a new column***\n",
    "\n",
    "In the last exercise, you converted the column plane_year to an integer. This column holds the year each plane was manufactured. However, your model will use the planes' age, which is slightly different from the year it was made!"
   ]
  },
  {
   "cell_type": "code",
   "execution_count": null,
   "id": "4ab0b956",
   "metadata": {},
   "outputs": [],
   "source": [
    "# Create the column plane_age\n",
    "model_data = model_data.withColumn(\"plane_age\", model_data.year - model_data.plane_year)"
   ]
  },
  {
   "cell_type": "markdown",
   "id": "1067c9c5",
   "metadata": {},
   "source": [
    "***Making a boolean***\n",
    "\n",
    "Consider that you're modeling a yes or no question: is the flight late? However, your data contains the arrival delay in minutes for each flight. Thus, you'll need to create a boolean column which indicates whether the flight was late or not!\n",
    "\n",
    "**Exercise:**\n",
    "\n",
    "1. Use the .withColumn() method to create the column is_late. This column is equal to model_data.arr_delay > 0.\n",
    "2. Convert this column to an integer column so that you can use it in your model and name it label (this is the default name for the response variable in Spark's machine learning routines).\n",
    "3. Filter out missing values (this has been done for you)."
   ]
  },
  {
   "cell_type": "code",
   "execution_count": null,
   "id": "e75a4f97",
   "metadata": {},
   "outputs": [],
   "source": [
    "# Create is_late\n",
    "model_data = model_data.withColumn(\"is_late\", model_data.arr_delay > 0)\n",
    "\n",
    "# Convert to an integer\n",
    "model_data = model_data.withColumn(\"label\", model_data.is_late.cast(\"integer\"))\n",
    "\n",
    "# Remove missing values\n",
    "model_data = model_data.filter(\"arr_delay is not NULL and dep_delay is not NULL and air_time is not NULL and plane_year is not NULL\")"
   ]
  },
  {
   "cell_type": "markdown",
   "id": "65cfe833",
   "metadata": {},
   "source": [
    "### 3. Strings and factors\n",
    "\n",
    "As you know, Spark requires numeric data for modeling. So far this hasn't been an issue; even boolean columns can easily be converted to integers without any trouble. But you'll also be using the airline and the plane's destination as features in your model. These are coded as strings and there isn't any obvious way to convert them to a numeric data type.\n",
    "\n",
    "Fortunately, PySpark has functions for handling this built into the pyspark.ml.features submodule. You can create what are called 'one-hot vectors' to represent the carrier and the destination of each flight. A one-hot vector is a way of representing a categorical feature where every observation has a vector in which all elements are zero except for at most one element, which has a value of one (1).\n",
    "\n",
    "Each element in the vector corresponds to a level of the feature, so it's possible to tell what the right level is by seeing which element of the vector is equal to one (1).\n",
    "\n",
    "The first step to encoding your categorical feature is to create a StringIndexer. Members of this class are Estimators that take a DataFrame with a column of strings and map each unique string to a number. Then, the Estimator returns a Transformer that takes a DataFrame, attaches the mapping to it as metadata, and returns a new DataFrame with a numeric column corresponding to the string column.\n",
    "\n",
    "The second step is to encode this numeric column as a one-hot vector using a OneHotEncoder. This works exactly the same way as the StringIndexer by creating an Estimator and then a Transformer. The end result is a column that encodes your categorical feature as a vector that's suitable for machine learning routines!\n",
    "\n",
    "This may seem complicated, but don't worry! All you have to remember is that you need to create a StringIndexer and a OneHotEncoder, and the Pipeline will take care of the rest."
   ]
  },
  {
   "cell_type": "markdown",
   "id": "d0fd19a7",
   "metadata": {},
   "source": [
    "***Carrier***\n",
    "\n",
    "In this exercise you'll create a StringIndexer and a OneHotEncoder to code the carrier column. To do this, you'll call the class constructors with the arguments inputCol and outputCol.\n",
    "\n",
    "The inputCol is the name of the column you want to index or encode, and the outputCol is the name of the new column that the Transformer should create."
   ]
  },
  {
   "cell_type": "code",
   "execution_count": null,
   "id": "61dd216a",
   "metadata": {},
   "outputs": [],
   "source": [
    "# Create a StringIndexer\n",
    "carr_indexer = StringIndexer(inputCol = \"carrier\", outputCol = \"carrier_index\")\n",
    "\n",
    "# Create a OneHotEncoder\n",
    "carr_encoder = OneHotEncoder(inputCol = \"carrier_index\", outputCol = \"carrier_fact\")"
   ]
  },
  {
   "cell_type": "markdown",
   "id": "6a5baafc",
   "metadata": {},
   "source": [
    "***Destination***\n",
    "\n",
    "Now you'll encode the dest column just like you did in the previous exercise."
   ]
  },
  {
   "cell_type": "code",
   "execution_count": null,
   "id": "e480b6ca",
   "metadata": {},
   "outputs": [],
   "source": [
    "# Create a StringIndexer\n",
    "dest_indexer = StringIndexer(inputCol = \"dest\", outputCol = \"dest_index\")\n",
    "\n",
    "# Create a OneHotEncoder\n",
    "dest_encoder = OneHotEncoder(inputCol = \"dest_index\", outputCol = \"dest_fact\")"
   ]
  },
  {
   "cell_type": "markdown",
   "id": "8cb3b247",
   "metadata": {},
   "source": [
    "### 4. Assemble a vector\n",
    "\n",
    "The last step in the Pipeline is to combine all of the columns containing our features into a single column. This has to be done before modeling can take place because every Spark modeling routine expects the data to be in this form. You can do this by storing each of the values from a column as an entry in a vector. Then, from the model's point of view, every observation is a vector that contains all of the information about it and a label that tells the modeler what value that observation corresponds to.\n",
    "\n",
    "Because of this, the pyspark.ml.feature submodule contains a class called VectorAssembler. This Transformer takes all of the columns you specify and combines them into a new vector column.\n",
    "\n",
    "**Exercise:**\n",
    "\n",
    "1. Create a VectorAssembler by calling VectorAssembler() with the inputCols names as a list and the outputCol name \"features\".\n",
    "2. The list of columns should be [\"month\", \"air_time\", \"carrier_fact\", \"dest_fact\", \"plane_age\"]."
   ]
  },
  {
   "cell_type": "code",
   "execution_count": null,
   "id": "b4b490ef",
   "metadata": {},
   "outputs": [],
   "source": [
    "# Make a VectorAssembler\n",
    "vec_assembler = VectorAssembler(inputCols=[\"month\", \"air_time\", \"carrier_fact\", \"dest_fact\", \"plane_age\"], outputCol=\"features\")"
   ]
  },
  {
   "cell_type": "markdown",
   "id": "01ca0d61",
   "metadata": {},
   "source": [
    "### 5. Create a Pipeline\n",
    "\n",
    "You're finally ready to create a Pipeline!\n",
    "\n",
    "Pipeline is a class in the pyspark.ml module that combines all the Estimators and Transformers that you've already created. This lets you reuse the same modeling process over and over again by wrapping it up in one simple object. Neat, right?"
   ]
  },
  {
   "cell_type": "code",
   "execution_count": null,
   "id": "3375eeef",
   "metadata": {},
   "outputs": [],
   "source": [
    "# Import Pipeline\n",
    "from pyspark.ml import Pipeline\n",
    "\n",
    "# Make the pipeline\n",
    "flights_pipe = Pipeline(stages=[dest_indexer, dest_encoder, carr_indexer, carr_encoder, vec_assembler])"
   ]
  },
  {
   "cell_type": "markdown",
   "id": "8e3a16c0",
   "metadata": {},
   "source": [
    "### 6. Test vs Train\n",
    "\n",
    "After you've cleaned your data and gotten it ready for modeling, one of the most important steps is to split the data into a test set and a train set. After that, don't touch your test data until you think you have a good model! As you're building models and forming hypotheses, you can test them on your training data to get an idea of their performance.\n",
    "\n",
    "Once you've got your favorite model, you can see how well it predicts the new data in your test set. This never-before-seen data will give you a much more realistic idea of your model's performance in the real world when you're trying to predict or classify new data.\n",
    "\n",
    "**In Spark it's important to make sure you split the data after all the transformations. This is because operations like StringIndexer don't always produce the same index even when given the same list of strings.**"
   ]
  },
  {
   "cell_type": "markdown",
   "id": "ec43b31f",
   "metadata": {},
   "source": [
    "### 7. Transform the data\n",
    "\n",
    "Hooray, now you're finally ready to pass your data through the Pipeline you created!"
   ]
  },
  {
   "cell_type": "code",
   "execution_count": null,
   "id": "637fe6bf",
   "metadata": {},
   "outputs": [],
   "source": [
    "# Fit and transform the data\n",
    "piped_data = flights_pipe.fit(model_data).transform(model_data)"
   ]
  },
  {
   "cell_type": "markdown",
   "id": "d8b165a5",
   "metadata": {},
   "source": [
    "### 8. Split the data\n",
    "\n",
    "Now that you've done all your manipulations, the last step before modeling is to split the data!"
   ]
  },
  {
   "cell_type": "code",
   "execution_count": null,
   "id": "8ec32c6b",
   "metadata": {},
   "outputs": [],
   "source": [
    "# Split the data into training and test sets\n",
    "training, test = piped_data.randomSplit([.6, .4])"
   ]
  },
  {
   "cell_type": "markdown",
   "id": "f8e8568d",
   "metadata": {},
   "source": [
    "## FINAL: Summary\n",
    "\n",
    "In this notebook, we have get ready our initial dataset to be trained by a Machine Learning model. To accomplish this, we have done the following steps:\n",
    "\n",
    "1. Cast to integers all numeric columns. Spark ML models needs that all the inputs columns to be numeric.\n",
    "2. Convert cathegorical columns to integers columns. This is made with StringIndexer (map each unique string to a number) and OneHotEncoder (column that encodes your categorical feature as a vector).\n",
    "3. Assemble a vector. Combine all columns in one column. In this column, each observation is a vector with all the values of the former dataset columns and the label column.\n",
    "4. Make a Pipeline with the 2 and 3 points.\n",
    "5. Fit and Transform the Pipeline.\n",
    "6. Train Test Split after transformation.\n",
    "\n",
    "Finally, we have our dataset ready to be trained by the ML models."
   ]
  }
 ],
 "metadata": {
  "kernelspec": {
   "display_name": "Python 3 (ipykernel)",
   "language": "python",
   "name": "python3"
  },
  "language_info": {
   "codemirror_mode": {
    "name": "ipython",
    "version": 3
   },
   "file_extension": ".py",
   "mimetype": "text/x-python",
   "name": "python",
   "nbconvert_exporter": "python",
   "pygments_lexer": "ipython3",
   "version": "3.8.13"
  }
 },
 "nbformat": 4,
 "nbformat_minor": 5
}
