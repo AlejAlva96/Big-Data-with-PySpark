{
 "cells": [
  {
   "cell_type": "markdown",
   "id": "983e1642-81d2-4600-90cc-37adcfd681a1",
   "metadata": {},
   "source": [
    "# Limpieza PySpark"
   ]
  },
  {
   "cell_type": "markdown",
   "id": "00763c9c-5dcf-4e85-94cd-5c3ce24c4470",
   "metadata": {},
   "source": [
    "### Configuraciones de PySpark"
   ]
  },
  {
   "cell_type": "code",
   "execution_count": 1,
   "id": "f59dbf3a-0952-4815-9d3b-cb992a873ecc",
   "metadata": {},
   "outputs": [],
   "source": [
    "import findspark\n",
    "findspark.init()"
   ]
  },
  {
   "cell_type": "code",
   "execution_count": 3,
   "id": "70388066-f959-470b-b7cb-1efbe6a41722",
   "metadata": {},
   "outputs": [],
   "source": [
    "from pyspark.sql import SparkSession\n",
    "\n",
    "spark = SparkSession.builder \\\n",
    "            .appName(\"Spark Alex\") \\\n",
    "            .getOrCreate()"
   ]
  },
  {
   "cell_type": "markdown",
   "id": "943b25ed-cb71-443e-bc6c-8d34213efa19",
   "metadata": {},
   "source": [
    "### Creamos dataframe"
   ]
  },
  {
   "cell_type": "code",
   "execution_count": 4,
   "id": "82d96a0f-e8b1-48e5-8961-f89f47006f5b",
   "metadata": {},
   "outputs": [],
   "source": [
    "from pyspark.sql import Row\n",
    "\n",
    "data=(\n",
    "  Row(1,'Muhammad',22),\n",
    "  Row(2,'Abdullah',24),\n",
    "  Row(3,'Ahmed',44),\n",
    "  Row(4,'John',55)\n",
    ")\n",
    "data=spark.createDataFrame(data)"
   ]
  },
  {
   "cell_type": "code",
   "execution_count": 5,
   "id": "3d5c664a-a429-403c-9f5a-abae2ea3e23f",
   "metadata": {},
   "outputs": [
    {
     "name": "stdout",
     "output_type": "stream",
     "text": [
      "+---+--------+---+\n",
      "| _1|      _2| _3|\n",
      "+---+--------+---+\n",
      "|  1|Muhammad| 22|\n",
      "|  2|Abdullah| 24|\n",
      "|  3|   Ahmed| 44|\n",
      "|  4|    John| 55|\n",
      "+---+--------+---+\n",
      "\n"
     ]
    }
   ],
   "source": [
    "data.show()"
   ]
  },
  {
   "cell_type": "code",
   "execution_count": 7,
   "id": "74783b08-928f-44d2-8ed1-d74228695258",
   "metadata": {},
   "outputs": [
    {
     "name": "stdout",
     "output_type": "stream",
     "text": [
      "root\n",
      " |-- _1: long (nullable = true)\n",
      " |-- _2: string (nullable = true)\n",
      " |-- _3: long (nullable = true)\n",
      "\n"
     ]
    }
   ],
   "source": [
    "data.printSchema()"
   ]
  },
  {
   "cell_type": "markdown",
   "id": "64dc7757-2fff-4b76-8f49-ab37dceff83d",
   "metadata": {},
   "source": [
    "### Leemos el csv"
   ]
  },
  {
   "cell_type": "code",
   "execution_count": 9,
   "id": "1a84c57d-1aa2-4dc4-8a57-498545d7a522",
   "metadata": {},
   "outputs": [],
   "source": [
    "store_df = spark.read.csv('C:/Users/Usuario/Desktop/SparkDataSet/store.csv')"
   ]
  },
  {
   "cell_type": "code",
   "execution_count": 10,
   "id": "63f3983d-f622-403b-b672-85f39cf812b3",
   "metadata": {},
   "outputs": [
    {
     "name": "stdout",
     "output_type": "stream",
     "text": [
      "+-----+---------+----------+-------------------+--------------------+--------------------+------+---------------+---------------+----------------+\n",
      "|  _c0|      _c1|       _c2|                _c3|                 _c4|                 _c5|   _c6|            _c7|            _c8|             _c9|\n",
      "+-----+---------+----------+-------------------+--------------------+--------------------+------+---------------+---------------+----------------+\n",
      "|Store|StoreType|Assortment|CompetitionDistance|CompetitionOpenSi...|CompetitionOpenSi...|Promo2|Promo2SinceWeek|Promo2SinceYear|   PromoInterval|\n",
      "|    1|        c|         a|               1270|                   9|                2008|     0|           NULL|           NULL|            NULL|\n",
      "|    2|        a|         a|                570|                  11|                2007|     1|             13|           2010| Jan,Apr,Jul,Oct|\n",
      "|    3|        a|         a|              14130|                  12|                2006|     1|             14|           2011| Jan,Apr,Jul,Oct|\n",
      "|    4|        c|         c|                620|                   9|                2009|     0|           NULL|           NULL|            NULL|\n",
      "|    5|        a|         a|              29910|                   4|                2015|     0|           NULL|           NULL|            NULL|\n",
      "|    6|        a|         a|                310|                  12|                2013|     0|           NULL|           NULL|            NULL|\n",
      "|    7|        a|         c|              24000|                   4|                2013|     0|           NULL|           NULL|            NULL|\n",
      "|    8|        a|         a|               7520|                  10|                2014|     0|           NULL|           NULL|            NULL|\n",
      "|    9|        a|         c|               2030|                   8|                2000|     0|           NULL|           NULL|            NULL|\n",
      "|   10|        a|         a|               3160|                   9|                2009|     0|           NULL|           NULL|            NULL|\n",
      "|   11|        a|         c|                960|                  11|                2011|     1|              1|           2012| Jan,Apr,Jul,Oct|\n",
      "|   12|        a|         c|               1070|                NULL|                NULL|     1|             13|           2010| Jan,Apr,Jul,Oct|\n",
      "|   13|        d|         a|                310|                NULL|                NULL|     1|             45|           2009| Feb,May,Aug,Nov|\n",
      "|   14|        a|         a|               1300|                   3|                2014|     1|             40|           2011| Jan,Apr,Jul,Oct|\n",
      "|   15|        d|         c|               4110|                   3|                2010|     1|             14|           2011| Jan,Apr,Jul,Oct|\n",
      "|   16|        a|         c|               3270|                NULL|                NULL|     0|           NULL|           NULL|            NULL|\n",
      "|   17|        a|         a|                 50|                  12|                2005|     1|             26|           2010| Jan,Apr,Jul,Oct|\n",
      "|   18|        d|         c|              13840|                   6|                2010|     1|             14|           2012| Jan,Apr,Jul,Oct|\n",
      "|   19|        a|         c|               3240|                NULL|                NULL|     1|             22|           2011|Mar,Jun,Sept,Dec|\n",
      "+-----+---------+----------+-------------------+--------------------+--------------------+------+---------------+---------------+----------------+\n",
      "only showing top 20 rows\n",
      "\n"
     ]
    }
   ],
   "source": [
    "store_df.show()"
   ]
  },
  {
   "cell_type": "markdown",
   "id": "794debee-c99d-41a8-b4ac-50d487d91d92",
   "metadata": {},
   "source": [
    "Como vemos, no tiene definido un esquema, lo cual es bastante peligroso cuando trabajamos en producción. Definiremos un esquema previamente y leeremos el csv indicando que tenemos cabeceras.\n"
   ]
  },
  {
   "cell_type": "markdown",
   "id": "90a56dd9-5973-4b7e-a5ec-7baeaed82d24",
   "metadata": {},
   "source": [
    "### Definimos el esquema"
   ]
  },
  {
   "cell_type": "code",
   "execution_count": 14,
   "id": "1737cfb2-91c2-4a13-a882-e2a472cd8bc1",
   "metadata": {},
   "outputs": [],
   "source": [
    "from pyspark.sql.types import *\n",
    "Schema=StructType([\n",
    "  StructField('Store',StringType(),nullable=True),\n",
    "  StructField('StoreType',StringType(),nullable=True),\n",
    "  StructField('Assortment',StringType(),nullable=True),\n",
    "  StructField('CompetitionDistance',FloatType(),nullable=True),\n",
    "  StructField('CompetitionOpenSinceMonth',IntegerType(),nullable=True),  \n",
    "  StructField('CompetitionOpenSinceYear',IntegerType(),nullable=True),  \n",
    "  StructField('Promo2',IntegerType(),nullable=True),\n",
    "  StructField('Promo2SinceWeek',IntegerType(),nullable=True),\n",
    "  StructField('Promo2SinceYear',IntegerType(),nullable=True),\n",
    "  StructField('PromoInterval',StringType(),nullable=True)\n",
    "])"
   ]
  },
  {
   "cell_type": "code",
   "execution_count": 15,
   "id": "560db831-8f1b-4e42-8b90-9d63d0667f27",
   "metadata": {},
   "outputs": [
    {
     "name": "stdout",
     "output_type": "stream",
     "text": [
      "+-----+---------+----------+-------------------+-------------------------+------------------------+------+---------------+---------------+----------------+\n",
      "|Store|StoreType|Assortment|CompetitionDistance|CompetitionOpenSinceMonth|CompetitionOpenSinceYear|Promo2|Promo2SinceWeek|Promo2SinceYear|   PromoInterval|\n",
      "+-----+---------+----------+-------------------+-------------------------+------------------------+------+---------------+---------------+----------------+\n",
      "|    1|        c|         a|             1270.0|                        9|                    2008|     0|           NULL|           NULL|            NULL|\n",
      "|    2|        a|         a|              570.0|                       11|                    2007|     1|             13|           2010| Jan,Apr,Jul,Oct|\n",
      "|    3|        a|         a|            14130.0|                       12|                    2006|     1|             14|           2011| Jan,Apr,Jul,Oct|\n",
      "|    4|        c|         c|              620.0|                        9|                    2009|     0|           NULL|           NULL|            NULL|\n",
      "|    5|        a|         a|            29910.0|                        4|                    2015|     0|           NULL|           NULL|            NULL|\n",
      "|    6|        a|         a|              310.0|                       12|                    2013|     0|           NULL|           NULL|            NULL|\n",
      "|    7|        a|         c|            24000.0|                        4|                    2013|     0|           NULL|           NULL|            NULL|\n",
      "|    8|        a|         a|             7520.0|                       10|                    2014|     0|           NULL|           NULL|            NULL|\n",
      "|    9|        a|         c|             2030.0|                        8|                    2000|     0|           NULL|           NULL|            NULL|\n",
      "|   10|        a|         a|             3160.0|                        9|                    2009|     0|           NULL|           NULL|            NULL|\n",
      "|   11|        a|         c|              960.0|                       11|                    2011|     1|              1|           2012| Jan,Apr,Jul,Oct|\n",
      "|   12|        a|         c|             1070.0|                     NULL|                    NULL|     1|             13|           2010| Jan,Apr,Jul,Oct|\n",
      "|   13|        d|         a|              310.0|                     NULL|                    NULL|     1|             45|           2009| Feb,May,Aug,Nov|\n",
      "|   14|        a|         a|             1300.0|                        3|                    2014|     1|             40|           2011| Jan,Apr,Jul,Oct|\n",
      "|   15|        d|         c|             4110.0|                        3|                    2010|     1|             14|           2011| Jan,Apr,Jul,Oct|\n",
      "|   16|        a|         c|             3270.0|                     NULL|                    NULL|     0|           NULL|           NULL|            NULL|\n",
      "|   17|        a|         a|               50.0|                       12|                    2005|     1|             26|           2010| Jan,Apr,Jul,Oct|\n",
      "|   18|        d|         c|            13840.0|                        6|                    2010|     1|             14|           2012| Jan,Apr,Jul,Oct|\n",
      "|   19|        a|         c|             3240.0|                     NULL|                    NULL|     1|             22|           2011|Mar,Jun,Sept,Dec|\n",
      "|   20|        d|         a|             2340.0|                        5|                    2009|     1|             40|           2014| Jan,Apr,Jul,Oct|\n",
      "+-----+---------+----------+-------------------+-------------------------+------------------------+------+---------------+---------------+----------------+\n",
      "only showing top 20 rows\n",
      "\n"
     ]
    }
   ],
   "source": [
    "df = spark.read.option('header',True).schema(Schema).csv('C:/Users/Usuario/Desktop/SparkDataSet/store.csv')\n",
    "df.show()"
   ]
  },
  {
   "cell_type": "markdown",
   "id": "e6ed1fdf-86a5-4985-85da-3c6694bfdea1",
   "metadata": {},
   "source": [
    "### Data types"
   ]
  },
  {
   "cell_type": "code",
   "execution_count": 16,
   "id": "f59c895c-7fb5-4b25-ba24-1bd4c1940be4",
   "metadata": {},
   "outputs": [
    {
     "data": {
      "text/plain": [
       "[('Store', 'string'),\n",
       " ('StoreType', 'string'),\n",
       " ('Assortment', 'string'),\n",
       " ('CompetitionDistance', 'float'),\n",
       " ('CompetitionOpenSinceMonth', 'int'),\n",
       " ('CompetitionOpenSinceYear', 'int'),\n",
       " ('Promo2', 'int'),\n",
       " ('Promo2SinceWeek', 'int'),\n",
       " ('Promo2SinceYear', 'int'),\n",
       " ('PromoInterval', 'string')]"
      ]
     },
     "execution_count": 16,
     "metadata": {},
     "output_type": "execute_result"
    }
   ],
   "source": [
    "df.dtypes"
   ]
  },
  {
   "cell_type": "markdown",
   "id": "d1a9fd8d-92a9-46a4-b990-1476667a7f3f",
   "metadata": {},
   "source": [
    "### Count of rows"
   ]
  },
  {
   "cell_type": "code",
   "execution_count": 17,
   "id": "77d32ca0-2dd9-466b-909e-5e6afc86c7b0",
   "metadata": {},
   "outputs": [
    {
     "data": {
      "text/plain": [
       "1115"
      ]
     },
     "execution_count": 17,
     "metadata": {},
     "output_type": "execute_result"
    }
   ],
   "source": [
    "df.count()"
   ]
  },
  {
   "cell_type": "markdown",
   "id": "e3134477-1001-432f-926b-c09bc4682a99",
   "metadata": {},
   "source": [
    "### DROPMALFORMED"
   ]
  },
  {
   "cell_type": "markdown",
   "id": "474dd2a0-01a9-4e12-a310-c52f4356549f",
   "metadata": {},
   "source": [
    "We can drop invalid rows while reading the dataset by setting the read mode as “DROPMALFORMED”"
   ]
  },
  {
   "cell_type": "code",
   "execution_count": 18,
   "id": "ea432385-d5dc-4b28-8ddd-66ddf7b31cdb",
   "metadata": {},
   "outputs": [],
   "source": [
    "df_1=spark.read.option('header',True).option('mode','DROPMALFORMED').csv('C:/Users/Usuario/Desktop/SparkDataSet/store.csv')"
   ]
  },
  {
   "cell_type": "code",
   "execution_count": 20,
   "id": "d5fb9e6c-076c-4fdb-b017-81eafe93cb14",
   "metadata": {},
   "outputs": [
    {
     "name": "stdout",
     "output_type": "stream",
     "text": [
      "+-----+---------+----------+-------------------+-------------------------+------------------------+------+---------------+---------------+----------------+\n",
      "|Store|StoreType|Assortment|CompetitionDistance|CompetitionOpenSinceMonth|CompetitionOpenSinceYear|Promo2|Promo2SinceWeek|Promo2SinceYear|   PromoInterval|\n",
      "+-----+---------+----------+-------------------+-------------------------+------------------------+------+---------------+---------------+----------------+\n",
      "|    1|        c|         a|               1270|                        9|                    2008|     0|           NULL|           NULL|            NULL|\n",
      "|    2|        a|         a|                570|                       11|                    2007|     1|             13|           2010| Jan,Apr,Jul,Oct|\n",
      "|    3|        a|         a|              14130|                       12|                    2006|     1|             14|           2011| Jan,Apr,Jul,Oct|\n",
      "|    4|        c|         c|                620|                        9|                    2009|     0|           NULL|           NULL|            NULL|\n",
      "|    5|        a|         a|              29910|                        4|                    2015|     0|           NULL|           NULL|            NULL|\n",
      "|    6|        a|         a|                310|                       12|                    2013|     0|           NULL|           NULL|            NULL|\n",
      "|    7|        a|         c|              24000|                        4|                    2013|     0|           NULL|           NULL|            NULL|\n",
      "|    8|        a|         a|               7520|                       10|                    2014|     0|           NULL|           NULL|            NULL|\n",
      "|    9|        a|         c|               2030|                        8|                    2000|     0|           NULL|           NULL|            NULL|\n",
      "|   10|        a|         a|               3160|                        9|                    2009|     0|           NULL|           NULL|            NULL|\n",
      "|   11|        a|         c|                960|                       11|                    2011|     1|              1|           2012| Jan,Apr,Jul,Oct|\n",
      "|   12|        a|         c|               1070|                     NULL|                    NULL|     1|             13|           2010| Jan,Apr,Jul,Oct|\n",
      "|   13|        d|         a|                310|                     NULL|                    NULL|     1|             45|           2009| Feb,May,Aug,Nov|\n",
      "|   14|        a|         a|               1300|                        3|                    2014|     1|             40|           2011| Jan,Apr,Jul,Oct|\n",
      "|   15|        d|         c|               4110|                        3|                    2010|     1|             14|           2011| Jan,Apr,Jul,Oct|\n",
      "|   16|        a|         c|               3270|                     NULL|                    NULL|     0|           NULL|           NULL|            NULL|\n",
      "|   17|        a|         a|                 50|                       12|                    2005|     1|             26|           2010| Jan,Apr,Jul,Oct|\n",
      "|   18|        d|         c|              13840|                        6|                    2010|     1|             14|           2012| Jan,Apr,Jul,Oct|\n",
      "|   19|        a|         c|               3240|                     NULL|                    NULL|     1|             22|           2011|Mar,Jun,Sept,Dec|\n",
      "|   20|        d|         a|               2340|                        5|                    2009|     1|             40|           2014| Jan,Apr,Jul,Oct|\n",
      "+-----+---------+----------+-------------------+-------------------------+------------------------+------+---------------+---------------+----------------+\n",
      "only showing top 20 rows\n",
      "\n"
     ]
    }
   ],
   "source": [
    "df_1.show()"
   ]
  },
  {
   "cell_type": "markdown",
   "id": "e7b2fbe6-fe5c-4f1f-936d-942cba54af6b",
   "metadata": {},
   "source": [
    "### FILLNA\n",
    "\n",
    "fillna() is used to replace null value with any other value"
   ]
  },
  {
   "cell_type": "code",
   "execution_count": 21,
   "id": "cd3fc499-9df8-448e-a6f6-acefb7363438",
   "metadata": {},
   "outputs": [
    {
     "name": "stdout",
     "output_type": "stream",
     "text": [
      "+-----+---------+----------+-------------------+-------------------------+------------------------+------+---------------+---------------+----------------+\n",
      "|Store|StoreType|Assortment|CompetitionDistance|CompetitionOpenSinceMonth|CompetitionOpenSinceYear|Promo2|Promo2SinceWeek|Promo2SinceYear|   PromoInterval|\n",
      "+-----+---------+----------+-------------------+-------------------------+------------------------+------+---------------+---------------+----------------+\n",
      "|    1|        c|         a|             1270.0|                        9|                    2008|     0|              0|              0|            NULL|\n",
      "|    2|        a|         a|              570.0|                       11|                    2007|     1|             13|           2010| Jan,Apr,Jul,Oct|\n",
      "|    3|        a|         a|            14130.0|                       12|                    2006|     1|             14|           2011| Jan,Apr,Jul,Oct|\n",
      "|    4|        c|         c|              620.0|                        9|                    2009|     0|              0|              0|            NULL|\n",
      "|    5|        a|         a|            29910.0|                        4|                    2015|     0|              0|              0|            NULL|\n",
      "|    6|        a|         a|              310.0|                       12|                    2013|     0|              0|              0|            NULL|\n",
      "|    7|        a|         c|            24000.0|                        4|                    2013|     0|              0|              0|            NULL|\n",
      "|    8|        a|         a|             7520.0|                       10|                    2014|     0|              0|              0|            NULL|\n",
      "|    9|        a|         c|             2030.0|                        8|                    2000|     0|              0|              0|            NULL|\n",
      "|   10|        a|         a|             3160.0|                        9|                    2009|     0|              0|              0|            NULL|\n",
      "|   11|        a|         c|              960.0|                       11|                    2011|     1|              1|           2012| Jan,Apr,Jul,Oct|\n",
      "|   12|        a|         c|             1070.0|                        0|                       0|     1|             13|           2010| Jan,Apr,Jul,Oct|\n",
      "|   13|        d|         a|              310.0|                        0|                       0|     1|             45|           2009| Feb,May,Aug,Nov|\n",
      "|   14|        a|         a|             1300.0|                        3|                    2014|     1|             40|           2011| Jan,Apr,Jul,Oct|\n",
      "|   15|        d|         c|             4110.0|                        3|                    2010|     1|             14|           2011| Jan,Apr,Jul,Oct|\n",
      "|   16|        a|         c|             3270.0|                        0|                       0|     0|              0|              0|            NULL|\n",
      "|   17|        a|         a|               50.0|                       12|                    2005|     1|             26|           2010| Jan,Apr,Jul,Oct|\n",
      "|   18|        d|         c|            13840.0|                        6|                    2010|     1|             14|           2012| Jan,Apr,Jul,Oct|\n",
      "|   19|        a|         c|             3240.0|                        0|                       0|     1|             22|           2011|Mar,Jun,Sept,Dec|\n",
      "|   20|        d|         a|             2340.0|                        5|                    2009|     1|             40|           2014| Jan,Apr,Jul,Oct|\n",
      "+-----+---------+----------+-------------------+-------------------------+------------------------+------+---------------+---------------+----------------+\n",
      "only showing top 20 rows\n",
      "\n"
     ]
    }
   ],
   "source": [
    "df.fillna(value=0).show()"
   ]
  },
  {
   "cell_type": "markdown",
   "id": "c1eb9e87-47f0-4256-bc18-e902c024faa8",
   "metadata": {},
   "source": [
    "Here, we are replacing the null value with -99 of specific subset"
   ]
  },
  {
   "cell_type": "code",
   "execution_count": 22,
   "id": "4ca1b953-78b4-4c87-8403-f49439ff7f35",
   "metadata": {},
   "outputs": [
    {
     "name": "stdout",
     "output_type": "stream",
     "text": [
      "+-----+---------+----------+-------------------+-------------------------+------------------------+------+---------------+---------------+----------------+\n",
      "|Store|StoreType|Assortment|CompetitionDistance|CompetitionOpenSinceMonth|CompetitionOpenSinceYear|Promo2|Promo2SinceWeek|Promo2SinceYear|   PromoInterval|\n",
      "+-----+---------+----------+-------------------+-------------------------+------------------------+------+---------------+---------------+----------------+\n",
      "|    1|        c|         a|             1270.0|                        9|                    2008|     0|            -99|            -99|            NULL|\n",
      "|    2|        a|         a|              570.0|                       11|                    2007|     1|             13|           2010| Jan,Apr,Jul,Oct|\n",
      "|    3|        a|         a|            14130.0|                       12|                    2006|     1|             14|           2011| Jan,Apr,Jul,Oct|\n",
      "|    4|        c|         c|              620.0|                        9|                    2009|     0|            -99|            -99|            NULL|\n",
      "|    5|        a|         a|            29910.0|                        4|                    2015|     0|            -99|            -99|            NULL|\n",
      "|    6|        a|         a|              310.0|                       12|                    2013|     0|            -99|            -99|            NULL|\n",
      "|    7|        a|         c|            24000.0|                        4|                    2013|     0|            -99|            -99|            NULL|\n",
      "|    8|        a|         a|             7520.0|                       10|                    2014|     0|            -99|            -99|            NULL|\n",
      "|    9|        a|         c|             2030.0|                        8|                    2000|     0|            -99|            -99|            NULL|\n",
      "|   10|        a|         a|             3160.0|                        9|                    2009|     0|            -99|            -99|            NULL|\n",
      "|   11|        a|         c|              960.0|                       11|                    2011|     1|              1|           2012| Jan,Apr,Jul,Oct|\n",
      "|   12|        a|         c|             1070.0|                     NULL|                    NULL|     1|             13|           2010| Jan,Apr,Jul,Oct|\n",
      "|   13|        d|         a|              310.0|                     NULL|                    NULL|     1|             45|           2009| Feb,May,Aug,Nov|\n",
      "|   14|        a|         a|             1300.0|                        3|                    2014|     1|             40|           2011| Jan,Apr,Jul,Oct|\n",
      "|   15|        d|         c|             4110.0|                        3|                    2010|     1|             14|           2011| Jan,Apr,Jul,Oct|\n",
      "|   16|        a|         c|             3270.0|                     NULL|                    NULL|     0|            -99|            -99|            NULL|\n",
      "|   17|        a|         a|               50.0|                       12|                    2005|     1|             26|           2010| Jan,Apr,Jul,Oct|\n",
      "|   18|        d|         c|            13840.0|                        6|                    2010|     1|             14|           2012| Jan,Apr,Jul,Oct|\n",
      "|   19|        a|         c|             3240.0|                     NULL|                    NULL|     1|             22|           2011|Mar,Jun,Sept,Dec|\n",
      "|   20|        d|         a|             2340.0|                        5|                    2009|     1|             40|           2014| Jan,Apr,Jul,Oct|\n",
      "+-----+---------+----------+-------------------+-------------------------+------------------------+------+---------------+---------------+----------------+\n",
      "only showing top 20 rows\n",
      "\n"
     ]
    }
   ],
   "source": [
    "df.fillna(value=-99,subset=['Promo2SinceWeek','Promo2SinceYear']).show()"
   ]
  },
  {
   "cell_type": "markdown",
   "id": "2657385f-dcdf-4fca-8bda-bb0a71bf0c5a",
   "metadata": {},
   "source": [
    "### SELECT"
   ]
  },
  {
   "cell_type": "code",
   "execution_count": 23,
   "id": "4aebf503-53ab-4179-a780-a001452470af",
   "metadata": {},
   "outputs": [
    {
     "name": "stdout",
     "output_type": "stream",
     "text": [
      "+-----+---------+\n",
      "|Store|StoreType|\n",
      "+-----+---------+\n",
      "|    1|        c|\n",
      "|    2|        a|\n",
      "+-----+---------+\n",
      "only showing top 2 rows\n",
      "\n"
     ]
    }
   ],
   "source": [
    "df_1.select('Store','StoreType').show(2)"
   ]
  },
  {
   "cell_type": "markdown",
   "id": "b2290fe6-0668-49ac-a092-c0e4fc3fac61",
   "metadata": {},
   "source": [
    "### WHEN\n",
    "\n",
    "In Spark we can conditionally replace values as we do in normal coding if-else. For that we can use when and otherwise methods on dataframe.\r\n",
    "\r\n",
    "Here we are creating a new column, with value equal to 1 if Promo2SinceYear > 2000 otherwise 0"
   ]
  },
  {
   "cell_type": "code",
   "execution_count": 38,
   "id": "7fb5566a-8e2e-476f-922f-b2ee47a0869c",
   "metadata": {},
   "outputs": [
    {
     "name": "stdout",
     "output_type": "stream",
     "text": [
      "+-----+---------+----------+-------------------+-------------------------+------------------------+------+---------------+---------------+----------------+-----------------+\n",
      "|Store|StoreType|Assortment|CompetitionDistance|CompetitionOpenSinceMonth|CompetitionOpenSinceYear|Promo2|Promo2SinceWeek|Promo2SinceYear|   PromoInterval|greater_than_2000|\n",
      "+-----+---------+----------+-------------------+-------------------------+------------------------+------+---------------+---------------+----------------+-----------------+\n",
      "|    1|        c|         a|             1270.0|                        9|                    2008|     0|           NULL|           NULL|            NULL|                0|\n",
      "|    2|        a|         a|              570.0|                       11|                    2007|     1|             13|           2010| Jan,Apr,Jul,Oct|                1|\n",
      "|    3|        a|         a|            14130.0|                       12|                    2006|     1|             14|           2011| Jan,Apr,Jul,Oct|                1|\n",
      "|    4|        c|         c|              620.0|                        9|                    2009|     0|           NULL|           NULL|            NULL|                0|\n",
      "|    5|        a|         a|            29910.0|                        4|                    2015|     0|           NULL|           NULL|            NULL|                0|\n",
      "|    6|        a|         a|              310.0|                       12|                    2013|     0|           NULL|           NULL|            NULL|                0|\n",
      "|    7|        a|         c|            24000.0|                        4|                    2013|     0|           NULL|           NULL|            NULL|                0|\n",
      "|    8|        a|         a|             7520.0|                       10|                    2014|     0|           NULL|           NULL|            NULL|                0|\n",
      "|    9|        a|         c|             2030.0|                        8|                    2000|     0|           NULL|           NULL|            NULL|                0|\n",
      "|   10|        a|         a|             3160.0|                        9|                    2009|     0|           NULL|           NULL|            NULL|                0|\n",
      "|   11|        a|         c|              960.0|                       11|                    2011|     1|              1|           2012| Jan,Apr,Jul,Oct|                1|\n",
      "|   12|        a|         c|             1070.0|                     NULL|                    NULL|     1|             13|           2010| Jan,Apr,Jul,Oct|                1|\n",
      "|   13|        d|         a|              310.0|                     NULL|                    NULL|     1|             45|           2009| Feb,May,Aug,Nov|                1|\n",
      "|   14|        a|         a|             1300.0|                        3|                    2014|     1|             40|           2011| Jan,Apr,Jul,Oct|                1|\n",
      "|   15|        d|         c|             4110.0|                        3|                    2010|     1|             14|           2011| Jan,Apr,Jul,Oct|                1|\n",
      "|   16|        a|         c|             3270.0|                     NULL|                    NULL|     0|           NULL|           NULL|            NULL|                0|\n",
      "|   17|        a|         a|               50.0|                       12|                    2005|     1|             26|           2010| Jan,Apr,Jul,Oct|                1|\n",
      "|   18|        d|         c|            13840.0|                        6|                    2010|     1|             14|           2012| Jan,Apr,Jul,Oct|                1|\n",
      "|   19|        a|         c|             3240.0|                     NULL|                    NULL|     1|             22|           2011|Mar,Jun,Sept,Dec|                1|\n",
      "|   20|        d|         a|             2340.0|                        5|                    2009|     1|             40|           2014| Jan,Apr,Jul,Oct|                1|\n",
      "+-----+---------+----------+-------------------+-------------------------+------------------------+------+---------------+---------------+----------------+-----------------+\n",
      "only showing top 20 rows\n",
      "\n"
     ]
    }
   ],
   "source": [
    "from pyspark.sql.functions import when  # Importar la función 'when'\n",
    "\n",
    "df.withColumn('greater_than_2000', when(df['Promo2SinceYear'] > 2000, 1).otherwise(0)).show()"
   ]
  },
  {
   "cell_type": "code",
   "execution_count": 39,
   "id": "bb07a925-5f7f-4ac5-8592-85fed6d78d0e",
   "metadata": {},
   "outputs": [
    {
     "name": "stdout",
     "output_type": "stream",
     "text": [
      "+---------------+-----------------+\n",
      "|Promo2SinceYear|greater_than_2000|\n",
      "+---------------+-----------------+\n",
      "|           NULL|                0|\n",
      "|           2010|                1|\n",
      "|           2011|                1|\n",
      "|           NULL|                0|\n",
      "|           NULL|                0|\n",
      "|           NULL|                0|\n",
      "|           NULL|                0|\n",
      "|           NULL|                0|\n",
      "|           NULL|                0|\n",
      "|           NULL|                0|\n",
      "|           2012|                1|\n",
      "|           2010|                1|\n",
      "|           2009|                1|\n",
      "|           2011|                1|\n",
      "|           2011|                1|\n",
      "|           NULL|                0|\n",
      "|           2010|                1|\n",
      "|           2012|                1|\n",
      "|           2011|                1|\n",
      "|           2014|                1|\n",
      "+---------------+-----------------+\n",
      "only showing top 20 rows\n",
      "\n"
     ]
    }
   ],
   "source": [
    "df.select('Promo2SinceYear', 'greater_than_2000').show()"
   ]
  },
  {
   "cell_type": "markdown",
   "id": "69e330cb-a67d-4685-876d-5ea46b5a65b8",
   "metadata": {},
   "source": [
    "### FILTER"
   ]
  },
  {
   "cell_type": "markdown",
   "id": "a596e9a0-e254-4311-bc5b-0dbbe100680c",
   "metadata": {},
   "source": [
    "In the Data cleaning process, filtering plays an essential role, and good news is that it’s super simple to use filter method. Filter method is an alias of where method, so we can use where method as well instead of filter."
   ]
  },
  {
   "cell_type": "code",
   "execution_count": 40,
   "id": "e9029ea2-d301-483c-bf16-aa513ae65fb5",
   "metadata": {},
   "outputs": [
    {
     "name": "stdout",
     "output_type": "stream",
     "text": [
      "+-----+---------+----------+-------------------+-------------------------+------------------------+------+---------------+---------------+---------------+-----------------+\n",
      "|Store|StoreType|Assortment|CompetitionDistance|CompetitionOpenSinceMonth|CompetitionOpenSinceYear|Promo2|Promo2SinceWeek|Promo2SinceYear|  PromoInterval|greater_than_2000|\n",
      "+-----+---------+----------+-------------------+-------------------------+------------------------+------+---------------+---------------+---------------+-----------------+\n",
      "|  128|        d|         c|             2000.0|                     NULL|                    NULL|     1|              1|           2013|Jan,Apr,Jul,Oct|                1|\n",
      "+-----+---------+----------+-------------------+-------------------------+------------------------+------+---------------+---------------+---------------+-----------------+\n",
      "\n"
     ]
    }
   ],
   "source": [
    "df.filter(df.CompetitionDistance==2000).show()"
   ]
  },
  {
   "cell_type": "markdown",
   "id": "2295c075-83ae-49ba-ad0e-4329d4484f1f",
   "metadata": {},
   "source": [
    "### GROUPBY\n",
    "\n",
    "Similar to the SQL GROUP BY clause, PySpark groupBy() function is used to collect the identical data into groups on DataFrame and perform aggregate functions on the grouped data."
   ]
  },
  {
   "cell_type": "code",
   "execution_count": 43,
   "id": "588500ce-40b4-4e77-bf85-06cc4a0b2d86",
   "metadata": {},
   "outputs": [
    {
     "name": "stdout",
     "output_type": "stream",
     "text": [
      "+---------------+\n",
      "|Promo2SinceWeek|\n",
      "+---------------+\n",
      "|             22|\n",
      "|             28|\n",
      "|             35|\n",
      "|              5|\n",
      "|             31|\n",
      "|             18|\n",
      "|             27|\n",
      "|             26|\n",
      "|              6|\n",
      "|             23|\n",
      "|             40|\n",
      "|             44|\n",
      "|             48|\n",
      "|              9|\n",
      "|              1|\n",
      "|             36|\n",
      "|             10|\n",
      "|             37|\n",
      "|             49|\n",
      "|             39|\n",
      "+---------------+\n",
      "only showing top 20 rows\n",
      "\n"
     ]
    }
   ],
   "source": [
    "df_1.select('StoreType','Promo2SinceWeek').groupby('Promo2SinceWeek').sum().show()"
   ]
  },
  {
   "cell_type": "code",
   "execution_count": 44,
   "id": "37a1d2fe-3a32-4a92-9e5d-5e2f7cd011c5",
   "metadata": {},
   "outputs": [
    {
     "name": "stdout",
     "output_type": "stream",
     "text": [
      "+---------+------------------------+\n",
      "|storeType|avg(CompetitionDistance)|\n",
      "+---------+------------------------+\n",
      "|        d|       6913.063583815029|\n",
      "|        c|      3522.5675675675675|\n",
      "|        b|      1060.5882352941176|\n",
      "|        a|         5123.0615640599|\n",
      "+---------+------------------------+\n",
      "\n"
     ]
    }
   ],
   "source": [
    "df.groupBy('storeType').mean('CompetitionDistance').show()"
   ]
  },
  {
   "cell_type": "markdown",
   "id": "98831024-29c8-48b5-a74b-8ef796cf0c41",
   "metadata": {},
   "source": [
    "### DROP\n",
    "\n",
    "Drop columns which are not necessary"
   ]
  },
  {
   "cell_type": "code",
   "execution_count": 45,
   "id": "9a142429-887d-4e20-a944-2d8df2e7356a",
   "metadata": {},
   "outputs": [
    {
     "name": "stdout",
     "output_type": "stream",
     "text": [
      "+-----+---------+-------------------+-------------------------+------------------------+------+---------------+---------------+----------------+-----------------+\n",
      "|Store|StoreType|CompetitionDistance|CompetitionOpenSinceMonth|CompetitionOpenSinceYear|Promo2|Promo2SinceWeek|Promo2SinceYear|   PromoInterval|greater_than_2000|\n",
      "+-----+---------+-------------------+-------------------------+------------------------+------+---------------+---------------+----------------+-----------------+\n",
      "|    1|        c|             1270.0|                        9|                    2008|     0|           NULL|           NULL|            NULL|                0|\n",
      "|    2|        a|              570.0|                       11|                    2007|     1|             13|           2010| Jan,Apr,Jul,Oct|                1|\n",
      "|    3|        a|            14130.0|                       12|                    2006|     1|             14|           2011| Jan,Apr,Jul,Oct|                1|\n",
      "|    4|        c|              620.0|                        9|                    2009|     0|           NULL|           NULL|            NULL|                0|\n",
      "|    5|        a|            29910.0|                        4|                    2015|     0|           NULL|           NULL|            NULL|                0|\n",
      "|    6|        a|              310.0|                       12|                    2013|     0|           NULL|           NULL|            NULL|                0|\n",
      "|    7|        a|            24000.0|                        4|                    2013|     0|           NULL|           NULL|            NULL|                0|\n",
      "|    8|        a|             7520.0|                       10|                    2014|     0|           NULL|           NULL|            NULL|                0|\n",
      "|    9|        a|             2030.0|                        8|                    2000|     0|           NULL|           NULL|            NULL|                0|\n",
      "|   10|        a|             3160.0|                        9|                    2009|     0|           NULL|           NULL|            NULL|                0|\n",
      "|   11|        a|              960.0|                       11|                    2011|     1|              1|           2012| Jan,Apr,Jul,Oct|                1|\n",
      "|   12|        a|             1070.0|                     NULL|                    NULL|     1|             13|           2010| Jan,Apr,Jul,Oct|                1|\n",
      "|   13|        d|              310.0|                     NULL|                    NULL|     1|             45|           2009| Feb,May,Aug,Nov|                1|\n",
      "|   14|        a|             1300.0|                        3|                    2014|     1|             40|           2011| Jan,Apr,Jul,Oct|                1|\n",
      "|   15|        d|             4110.0|                        3|                    2010|     1|             14|           2011| Jan,Apr,Jul,Oct|                1|\n",
      "|   16|        a|             3270.0|                     NULL|                    NULL|     0|           NULL|           NULL|            NULL|                0|\n",
      "|   17|        a|               50.0|                       12|                    2005|     1|             26|           2010| Jan,Apr,Jul,Oct|                1|\n",
      "|   18|        d|            13840.0|                        6|                    2010|     1|             14|           2012| Jan,Apr,Jul,Oct|                1|\n",
      "|   19|        a|             3240.0|                     NULL|                    NULL|     1|             22|           2011|Mar,Jun,Sept,Dec|                1|\n",
      "|   20|        d|             2340.0|                        5|                    2009|     1|             40|           2014| Jan,Apr,Jul,Oct|                1|\n",
      "+-----+---------+-------------------+-------------------------+------------------------+------+---------------+---------------+----------------+-----------------+\n",
      "only showing top 20 rows\n",
      "\n"
     ]
    }
   ],
   "source": [
    "df=df.drop('Assortment')\n",
    "df.show()"
   ]
  },
  {
   "cell_type": "code",
   "execution_count": null,
   "id": "38898a81-4c16-4841-adb3-bdd6610c5ed9",
   "metadata": {},
   "outputs": [],
   "source": []
  }
 ],
 "metadata": {
  "kernelspec": {
   "display_name": "Python 3 (ipykernel)",
   "language": "python",
   "name": "python3"
  },
  "language_info": {
   "codemirror_mode": {
    "name": "ipython",
    "version": 3
   },
   "file_extension": ".py",
   "mimetype": "text/x-python",
   "name": "python",
   "nbconvert_exporter": "python",
   "pygments_lexer": "ipython3",
   "version": "3.8.18"
  }
 },
 "nbformat": 4,
 "nbformat_minor": 5
}
